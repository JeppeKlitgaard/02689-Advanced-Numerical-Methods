{
 "cells": [
  {
   "cell_type": "code",
   "execution_count": null,
   "id": "504c5a91",
   "metadata": {},
   "outputs": [],
   "source": [
    "import numpy as np\n",
    "import scipy\n",
    "import seaborn as sns\n",
    "import matplotlib.pyplot as plt\n",
    "import time\n",
    "\n",
    "from utils import JacobiGL, constructV, constructVx, constructD, z2x, z2x_dx, x2z, x2z_dz, JacobiP\n",
    "\n",
    "sns.set_theme(style=\"whitegrid\")"
   ]
  },
  {
   "cell_type": "markdown",
   "id": "89b38fde",
   "metadata": {},
   "source": [
    "# Time-dependent problems\n",
    "## c)"
   ]
  },
  {
   "cell_type": "code",
   "execution_count": null,
   "id": "bd52699c",
   "metadata": {},
   "outputs": [],
   "source": []
  }
 ],
 "metadata": {
  "language_info": {
   "name": "python"
  }
 },
 "nbformat": 4,
 "nbformat_minor": 5
}
