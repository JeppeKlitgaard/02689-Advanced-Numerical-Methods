{
 "cells": [
  {
   "cell_type": "code",
   "execution_count": 2,
   "id": "1010e727",
   "metadata": {},
   "outputs": [],
   "source": [
    "import numpy as np\n",
    "import scipy\n",
    "import seaborn as sns\n",
    "import matplotlib.pyplot as plt\n",
    "import time\n",
    "\n",
    "from utils import JacobiGL, constructV, constructVx, constructD, z2x, z2x_dx, x2z, x2z_dz, JacobiP\n"
   ]
  },
  {
   "cell_type": "markdown",
   "id": "c3bda58e",
   "metadata": {},
   "source": [
    "# Boundary value problems"
   ]
  },
  {
   "cell_type": "markdown",
   "id": "d3f2d288",
   "metadata": {},
   "source": [
    "## a)"
   ]
  },
  {
   "cell_type": "code",
   "execution_count": 3,
   "id": "f73814ae",
   "metadata": {},
   "outputs": [],
   "source": [
    "# eps_vec = [0.1, 0.01, 0.001]\n",
    "eps = 0.1\n",
    "x0, xN = 0, 1\n",
    "g0, gN = 0, 0\n",
    "\n",
    "def uexact(x, eps):\n",
    "    return (np.exp(-x/eps) + (x-1) - np.exp(-1/eps)*x) / (np.exp(-1/eps) - 1)"
   ]
  },
  {
   "cell_type": "markdown",
   "id": "e5925353",
   "metadata": {},
   "source": [
    "### Legendre Tau Method "
   ]
  },
  {
   "cell_type": "code",
   "execution_count": null,
   "id": "6d7eb279",
   "metadata": {},
   "outputs": [],
   "source": [
    "N = 20\n",
    "alpha, beta = 0, 0  # Legendre\n",
    "\n",
    "# Find Gauss Lobatto nodes\n",
    "x = JacobiGL(alpha, beta, N)\n",
    "\n",
    "\n",
    "##### Find fhat values #####\n",
    "# Quadrature weights\n",
    "w = 2 / (N * (N+1)) / np.power(JacobiP(x, alpha, beta, N), 2)\n",
    "\n",
    "f_samples = np.ones_like(x)\n",
    "\n",
    "# Precompute Jacobi polynomials for all k=0..N-1\n",
    "# Shape: (N, len(x))\n",
    "Phi = np.vstack([JacobiP(x, alpha, beta, k) for k in range(N)])\n",
    "\n",
    "# Compute gamma_k for all k at once\n",
    "gamma = np.sum(Phi**2 * w, axis=1)\n",
    "\n",
    "# Compute numerator = <u, phi_k> for all k\n",
    "numerators = np.sum((f_samples * Phi) * w, axis=1)\n",
    "\n",
    "fhat = numerators / gamma\n",
    "\n",
    "##### Calculate ghat #####\n",
    "nvec = np.arange(2, N-2)\n",
    "ghat = np.zeros_like(fhat, dtype = float)\n",
    "ghat[2:N-2] = fhat[3:N-1] / (eps * (2*nvec + 3)) - fhat[1:N-3] / (eps * (2*nvec - 1))\n",
    "ghat[0:2] = fhat[0:2]\n",
    "# Since ghat already 0, I don't do anything for boundary conditions\n",
    "\n",
    "##### Set up system matrix A, such that A uhat = ghat #####\n",
    "A = np.zeros((N,N), dtype=float)\n",
    "\n",
    "# Add diagonal\n",
    "A[2:N-2, 2:N-2] = np.diag(-1/(eps*(2*nvec-1)*(2*nvec+3))) \n",
    "\n",
    "# Add sub and super diagonals\n",
    "A += np.diag(np.concatenate((1/(eps*(2*nvec-1)**2), [0, 0])), k=-2) \n",
    "A += np.diag(np.concatenate(([0], 1/(eps*(2*nvec-1)), [0, 0])), k=-1)\n",
    "A -= np.diag(np.concatenate(([0, 0], 1/(eps*(2*nvec+3)), [0])), k=1)\n",
    "A += np.diag(np.concatenate(([0, 0], 1/(eps*(2*nvec+3)**2))), k=2) \n",
    "\n",
    "# Add two first rows using truncated versions of the sum-formulations\n",
    "nvec = np.arange(N)\n",
    "\n",
    "A[0, 2::2] = -eps/2 * (nvec[2::2] * (nvec[2::2] + 1))\n",
    "A[0, 1::2] = - np.ones_like(nvec[1::2], dtype=float)\n",
    "A[1, 3::2] = - eps * 3/2 * (nvec[3::2] * (nvec[3::2] + 1) - 2)\n",
    "A[1, 2::2] = - 3 * np.ones_like(nvec[2::2], dtype=float)\n",
    "\n",
    "# Add last two rows using boundary conditions\n",
    "A[-2:] = np.vstack([JacobiP([-1,1], alpha, beta, n) for n in range(N)]).transpose()"
   ]
  }
 ],
 "metadata": {
  "kernelspec": {
   "display_name": "Python 3",
   "language": "python",
   "name": "python3"
  },
  "language_info": {
   "codemirror_mode": {
    "name": "ipython",
    "version": 3
   },
   "file_extension": ".py",
   "mimetype": "text/x-python",
   "name": "python",
   "nbconvert_exporter": "python",
   "pygments_lexer": "ipython3",
   "version": "3.10.4"
  }
 },
 "nbformat": 4,
 "nbformat_minor": 5
}
