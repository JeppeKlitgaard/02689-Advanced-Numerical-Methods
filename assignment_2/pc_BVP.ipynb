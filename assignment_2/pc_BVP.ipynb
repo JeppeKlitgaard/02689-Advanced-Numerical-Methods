{
 "cells": [
  {
   "cell_type": "code",
   "execution_count": 27,
   "id": "1010e727",
   "metadata": {},
   "outputs": [],
   "source": [
    "import numpy as np\n",
    "import scipy\n",
    "import seaborn as sns\n",
    "import matplotlib.pyplot as plt\n",
    "import time\n",
    "\n",
    "from utils import JacobiGL, constructV, constructVx, constructD, z2x, z2x_dx, x2z, x2z_dz, JacobiP\n",
    "\n",
    "sns.set_theme(style=\"whitegrid\")\n"
   ]
  },
  {
   "cell_type": "markdown",
   "id": "c3bda58e",
   "metadata": {},
   "source": [
    "# Boundary value problems"
   ]
  },
  {
   "cell_type": "markdown",
   "id": "d3f2d288",
   "metadata": {},
   "source": [
    "## a)"
   ]
  },
  {
   "cell_type": "code",
   "execution_count": null,
   "id": "f73814ae",
   "metadata": {},
   "outputs": [],
   "source": [
    "eps = 0.1\n",
    "x0, xN = 0, 1\n",
    "g0, gN = 0, 0\n",
    "a, b, c = -4 * eps, -2, 0\n",
    "\n",
    "def uexact(x, eps):\n",
    "    return (np.exp(-x/eps) + (x-1) - np.exp(-1/eps)*x) / (np.exp(-1/eps) - 1)"
   ]
  },
  {
   "cell_type": "markdown",
   "id": "e5925353",
   "metadata": {},
   "source": [
    "### Legendre Tau Method "
   ]
  },
  {
   "cell_type": "code",
   "execution_count": 29,
   "id": "b16c0b19",
   "metadata": {},
   "outputs": [],
   "source": [
    "def Tau_Legendre(a, b, c, N):\n",
    "    alpha, beta = 0, 0  # Legendre\n",
    "\n",
    "    # Find Gauss Lobatto nodes\n",
    "    z = JacobiGL(alpha, beta, N)\n",
    "\n",
    "    ##### Find fhat values #####\n",
    "    # Quadrature weights\n",
    "    w = 2 / (N * (N+1)) / np.power(JacobiP(z, alpha, beta, N), 2)\n",
    "\n",
    "    f_samples = np.ones_like(z)\n",
    "\n",
    "    # Precompute Jacobi polynomials for all k=0..N-1\n",
    "    # Shape: (N, len(x))\n",
    "    Phi = np.vstack([JacobiP(z, alpha, beta, k) for k in range(N)])\n",
    "\n",
    "    # Compute gamma_k for all k at once\n",
    "    gamma = np.sum(Phi**2 * w, axis=1)\n",
    "\n",
    "    # Compute numerator = <u, phi_k> for all k\n",
    "    numerators = np.sum((f_samples * Phi) * w, axis=1)\n",
    "\n",
    "    fhat = numerators / gamma\n",
    "\n",
    "    ##### Calculate ghat #####\n",
    "    nvec = np.arange(2, N-2)\n",
    "    ghat = np.zeros_like(fhat, dtype = float)\n",
    "    ghat[2:-2] = - fhat[:-4] / (a * (2*nvec - 3) * (2*nvec - 1)) \\\n",
    "                + fhat[2:-2] / (a * (2*nvec - 1) * (2*nvec + 3)) \\\n",
    "                - fhat[4:] / (a * (2*nvec + 1) * (2*nvec + 5))\n",
    "    ghat[0:2] = fhat[0:2]\n",
    "    # Since ghat already 0, I don't do anything for boundary conditions\n",
    "\n",
    "    ##### Set up system matrix A, such that A uhat = ghat #####\n",
    "    A = np.zeros((N,N), dtype=float)\n",
    "\n",
    "    # Add diagonal\n",
    "    A[2:N-2, 2:N-2] = -1 * np.eye(N-4) # np.diag(c/a * 1/(eps*(2*nvec-1)*(2*nvec+3) - 1)) \n",
    "\n",
    "    # Add sub and super diagonals\n",
    "    # A += np.diag(np.concatenate((-c/(a*(2*nvec-1)*(2*nvec-3)), [0, 0])), k=-2) \n",
    "    A += np.diag(np.concatenate(([0], -b/a / (2*nvec-1), [0, 0])), k=-1)\n",
    "    A += np.diag(np.concatenate(([0, 0], b/a /(2*nvec+3), [0])), k=1)\n",
    "    # A += np.diag(np.concatenate(([0, 0], - c/a /((2*nvec+3)*(2*nvec+5)))), k=2) \n",
    "\n",
    "    # Add two first rows using truncated versions of the sum-formulations\n",
    "    nvec = np.arange(N)\n",
    "\n",
    "    A[0, 2::2] = a/2 * (nvec[2::2] * (nvec[2::2] + 1))\n",
    "    A[0, 1::2] = b * np.ones_like(nvec[1::2], dtype=float)\n",
    "    A[1, 3::2] = a * 3/2 * (nvec[3::2] * (nvec[3::2] + 1) - 2)\n",
    "    A[1, 2::2] = b * 3 * np.ones_like(nvec[2::2], dtype=float)\n",
    "\n",
    "    # Add last two rows using boundary conditions\n",
    "    A[-2:] = np.vstack([JacobiP([-1,1], alpha, beta, n) for n in range(N)]).transpose()\n",
    "\n",
    "    ##### Find uhat by solving system #####\n",
    "    uhat = np.linalg.solve(A, ghat)\n",
    "\n",
    "    return z, uhat"
   ]
  },
  {
   "cell_type": "code",
   "execution_count": 30,
   "id": "8fc68b4d",
   "metadata": {},
   "outputs": [
    {
     "data": {
      "text/plain": [
       "<matplotlib.legend.Legend at 0x201305350f0>"
      ]
     },
     "execution_count": 30,
     "metadata": {},
     "output_type": "execute_result"
    },
    {
     "data": {
      "image/png": "[encoded data removed]",
      "text/plain": [
       "<Figure size 504x360 with 1 Axes>"
      ]
     },
     "metadata": {},
     "output_type": "display_data"
    }
   ],
   "source": [
    "##### Find uhat by solving system #####\n",
    "N = 20\n",
    "z, uhat = Tau_Legendre(a, b, c, N)\n",
    "\n",
    "Phi = np.vstack([JacobiP(z, 0, 0, k) for k in range(N)])\n",
    "x_eval = 1/2 * (z+1)\n",
    "\n",
    "u_compute = uhat @ Phi\n",
    "\n",
    "##### Plot #####\n",
    "x_plot = np.linspace(x0, xN, 200, endpoint=True)\n",
    "z_plot = 2 * x_plot - 1\n",
    "Phi = np.vstack([JacobiP(z_plot, 0, 0, k) for k in range(N)])\n",
    "\n",
    "u_plot = uhat @ Phi\n",
    "\n",
    "fig, ax = plt.subplots(1, 1, figsize=(7,5))\n",
    "ax.plot(x_plot, uexact(x_plot, eps), label = \"Exact\")\n",
    "ax.plot(x_eval, u_compute, \"ro\", label = \"Computed\")\n",
    "ax.plot(x_plot, u_plot, \"r--\")\n",
    "ax.legend()"
   ]
  },
  {
   "cell_type": "markdown",
   "id": "87c87cd5",
   "metadata": {},
   "source": [
    "### Relative differences in accuracy"
   ]
  },
  {
   "cell_type": "code",
   "execution_count": 50,
   "id": "2fc51144",
   "metadata": {},
   "outputs": [
    {
     "data": {
      "text/plain": [
       "<matplotlib.legend.Legend at 0x20130c58dc0>"
      ]
     },
     "execution_count": 50,
     "metadata": {},
     "output_type": "execute_result"
    },
    {
     "data": {
      "image/png": "[encoded data removed]",
      "text/plain": [
       "<Figure size 504x360 with 1 Axes>"
      ]
     },
     "metadata": {},
     "output_type": "display_data"
    }
   ],
   "source": [
    "eps_vec = [0.1, 0.01, 0.001]\n",
    "Ns = np.arange(5, 50, 2) # NOTE: something happens on even indicees\n",
    "\n",
    "errors = np.zeros((len(eps_vec), len(Ns)), dtype = float)\n",
    "\n",
    "fig, ax = plt.subplots(1, 1, figsize=(7,5))\n",
    "\n",
    "for (i, eps) in enumerate(eps_vec):\n",
    "    a = - 4 * eps\n",
    "    for (j, N) in enumerate(Ns):\n",
    "        z, uhat = Tau_Legendre(a, b, c, N)\n",
    "\n",
    "        Phi = np.vstack([JacobiP(z, 0, 0, k) for k in range(N)])\n",
    "        x_eval = 1/2 * (z+1)\n",
    "\n",
    "        u_compute = uhat @ Phi\n",
    "\n",
    "        errors[i, j] = np.linalg.norm(u_compute-uexact(x_eval, eps))\n",
    "\n",
    "    ax.plot(Ns, errors[i], \"o-\", label=rf\"$\\varepsilon=${eps}\")\n",
    "\n",
    "ax.legend()\n"
   ]
  }
 ],
 "metadata": {
  "kernelspec": {
   "display_name": "Python 3",
   "language": "python",
   "name": "python3"
  },
  "language_info": {
   "codemirror_mode": {
    "name": "ipython",
    "version": 3
   },
   "file_extension": ".py",
   "mimetype": "text/x-python",
   "name": "python",
   "nbconvert_exporter": "python",
   "pygments_lexer": "ipython3",
   "version": "3.10.4"
  }
 },
 "nbformat": 4,
 "nbformat_minor": 5
}
